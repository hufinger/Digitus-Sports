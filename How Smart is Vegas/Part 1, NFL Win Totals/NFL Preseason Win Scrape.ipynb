{
 "cells": [
  {
   "cell_type": "code",
   "execution_count": 1,
   "metadata": {},
   "outputs": [],
   "source": [
    "import requests\n",
    "from bs4 import BeautifulSoup\n",
    "import pandas as pd"
   ]
  },
  {
   "cell_type": "code",
   "execution_count": 22,
   "metadata": {},
   "outputs": [],
   "source": [
    "def scrape(year):\n",
    "    website_url = requests.get(\"https://www.sportsoddshistory.com/nfl-win/?y=\" + year + \"&sa=nfl&t=win&o=t\").text\n",
    "    soup = BeautifulSoup(website_url,'lxml')\n",
    "    my_table = soup.find_all('table',{'class':'soh1'})\n",
    "    \n",
    "    for rows in my_table:\n",
    "        ths = rows.find_all('th')\n",
    "        trs = rows.find_all('tr')\n",
    "    headings = [th.text.strip() for th in ths]\n",
    "    team_data = [[td.getText() for td in trs[i].findAll('td')]\n",
    "            for i in range(len(trs))]\n",
    "    \n",
    "    history = pd.DataFrame(team_data, columns = None)\n",
    "    history.columns = [headings]\n",
    "    history = history.replace('\\t','', regex = True)\n",
    "    history = history.replace(r'\\n','', regex = True)\n",
    "    history = history[1:33]\n",
    "    history.to_csv('NFL-' + year + '-Win-Predictions.csv')\n",
    "    \n",
    "scrape('2019')\n",
    "scrape('2018')\n",
    "scrape('2017')\n",
    "scrape('2016')\n",
    "scrape('2015')\n",
    "scrape('2014')"
   ]
  },
  {
   "cell_type": "code",
   "execution_count": null,
   "metadata": {},
   "outputs": [],
   "source": []
  }
 ],
 "metadata": {
  "kernelspec": {
   "display_name": "Python 3",
   "language": "python",
   "name": "python3"
  },
  "language_info": {
   "codemirror_mode": {
    "name": "ipython",
    "version": 3
   },
   "file_extension": ".py",
   "mimetype": "text/x-python",
   "name": "python",
   "nbconvert_exporter": "python",
   "pygments_lexer": "ipython3",
   "version": "3.6.8"
  }
 },
 "nbformat": 4,
 "nbformat_minor": 4
}
